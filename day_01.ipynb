{
 "cells": [
  {
   "cell_type": "markdown",
   "metadata": {},
   "source": [
    "##paste the links that you want to download in urls.txt file first convert in the for of list\n"
   ]
  },
  {
   "cell_type": "code",
   "execution_count": null,
   "metadata": {},
   "outputs": [],
   "source": [
    "pip install pytube\n"
   ]
  },
  {
   "cell_type": "code",
   "execution_count": 13,
   "metadata": {},
   "outputs": [
    {
     "name": "stdout",
     "output_type": "stream",
     "text": [
      "Downloading Woodworking 🪵#shorts...\n",
      "Woodworking 🪵#shorts downloaded successfully.\n",
      "Downloading Helpsful tip #woodworking #shorts...\n",
      "Helpsful tip #woodworking #shorts downloaded successfully.\n"
     ]
    }
   ],
   "source": [
    "from pytube import YouTube\n",
    "\n",
    "# List of YouTube video URLs\n",
    "video_urls = ['https://www.youtube.com/shorts/gxED0jCJR7o', 'https://www.youtube.com/shorts/1rwpMTDM6Kk', ]\n",
    "\n",
    "# Function to download videos\n",
    "def download_videos(urls):\n",
    "    for url in urls:\n",
    "        try:\n",
    "            yt = YouTube(url)\n",
    "            stream = yt.streams.get_highest_resolution()\n",
    "            print(f\"Downloading {yt.title}...\")\n",
    "            stream.download()\n",
    "            print(f\"{yt.title} downloaded successfully.\")\n",
    "        except Exception as e:\n",
    "            print(f\"Error downloading {url}: {e}\")\n",
    "\n",
    "# Call the function with the list of video URLs\n",
    "download_videos(video_urls)\n"
   ]
  },
  {
   "cell_type": "code",
   "execution_count": 12,
   "metadata": {},
   "outputs": [
    {
     "name": "stdout",
     "output_type": "stream",
     "text": [
      "[\"'https://www.youtube.com/shorts/cCbkK1Dflks', 'https://www.youtube.com/shorts/8ggB9eq1ORA', 'https://www.youtube.com/shorts/nSBREQR8rMM', 'https://www.youtube.com/shorts/KaLwk7Wbb_M', 'https://www.youtube.com/shorts/wPrh9VBhJxU', 'https://www.youtube.com/shorts/nHKwj6ZX4uk', 'https://www.youtube.com/shorts/928f3RLpGsE', 'https://www.youtube.com/shorts/hZShQZA1EKU', 'https://www.youtube.com/shorts/n2zW31dPVP4', 'https://www.youtube.com/shorts/4kavqhIskjw', 'https://www.youtube.com/shorts/kqzgS067xLw', 'https://www.youtube.com/shorts/vpJSa8L-4W8', 'https://www.youtube.com/shorts/QCJVX1PtslU', 'https://www.youtube.com/shorts/dzX0RO9xJIA', 'https://www.youtube.com/shorts/_xQUgb2kHtQ', 'https://www.youtube.com/shorts/WbDOByBXdbc', 'https://www.youtube.com/shorts/UhFzlG4DFNo', 'https://www.youtube.com/shorts/3mAwSMsmerw', 'https://www.youtube.com/shorts/pXQSEv5Br6o', 'https://www.youtube.com/shorts/-LlmkhHI-bk', 'https://www.youtube.com/shorts/dDY1FMqRP3Y', 'https://www.youtube.com/shorts/QRW00j49KLw', 'https://www.youtube.com/shorts/5FjtioKY3ZE', 'https://www.youtube.com/shorts/k6PVmC-9EUE', 'https://www.youtube.com/shorts/gFzTpaQFPx0', 'https://www.youtube.com/shorts/sRybUW4atUU', 'https://www.youtube.com/shorts/OkVoq6XBz24', 'https://www.youtube.com/shorts/hKJp7UJtaXY', 'https://www.youtube.com/shorts/5TuAguImm2s', 'https://www.youtube.com/shorts/96t_DWSOpV8', 'https://www.youtube.com/shorts/L4uqe9gHAl0', 'https://www.youtube.com/shorts/ZtB3Tsn-32A', 'https://www.youtube.com/shorts/A5QB90lXdyY', 'https://www.youtube.com/shorts/JGJg6UCKF7k', 'https://www.youtube.com/shorts/iEpIzEBRfEo', 'https://www.youtube.com/shorts/2G5AzPJ3j8A', 'https://www.youtube.com/shorts/0euuyalUDjs', 'https://www.youtube.com/shorts/qwx_pfXgKQs', 'https://www.youtube.com/shorts/fXl9iYRGTwI', 'https://www.youtube.com/shorts/BjPG_To7Rws', 'https://www.youtube.com/shorts/6VKQk9QwXoo', 'https://www.youtube.com/shorts/FBsScIabQ0E', 'https://www.youtube.com/shorts/qwd-b-Qd1Cs', 'https://www.youtube.com/shorts/tTKTh6jsx2U', 'https://www.youtube.com/shorts/0wNpwjJbTnE', 'https://www.youtube.com/shorts/5BkNoxYFHs0', 'https://www.youtube.com/shorts/wemh1tOl-l0', 'https://www.youtube.com/@sunsetmakeup/shorts', 'https://www.youtube.com/@sunsetmakeup/shorts#'\"]\n"
     ]
    }
   ],
   "source": [
    "# Open the text file containing the URLs\n",
    "with open(\"urls.txt\", \"r\") as file:\n",
    "    # Read each line (URL) from the file and strip any leading/trailing whitespace\n",
    "    urls = [line.strip() for line in file]\n",
    "\n",
    "# Print the list of URLs\n",
    "print(urls)\n"
   ]
  },
  {
   "cell_type": "code",
   "execution_count": null,
   "metadata": {},
   "outputs": [],
   "source": [
    "from pytube import YouTube\n",
    "\n",
    "# URL of the YouTube video\n",
    "video_url = 'https://www.youtube.com/@toysandcolors'\n",
    "\n",
    "# Create a YouTube object\n",
    "yt = YouTube(video_url)\n",
    "\n",
    "# Filter streams to only include those with both video and audio\n",
    "stream = yt.streams.filter(progressive=True, file_extension='mp4').first()\n",
    "\n",
    "# Download the video\n",
    "stream.download(output_path='C:\\\\Users\\\\MR\\\\Desktop')\n",
    "\n",
    "\n"
   ]
  },
  {
   "cell_type": "code",
   "execution_count": null,
   "metadata": {},
   "outputs": [],
   "source": [
    "from pytube import YouTube\n",
    "\n",
    "# Playlist URL\n",
    "playlist_url = 'https://www.youtube.com/watch?v=CNGjFSYic4o&list=PL5gq3QGk5j3gZT9Tj6YAAehSsze0TwOhv&pp=iAQB'\n",
    "\n",
    "# Function to extract video URLs from playlist\n",
    "def extract_video_urls(playlist_url):\n",
    "    from pytube import Playlist\n",
    "    playlist = Playlist(playlist_url)\n",
    "    return playlist.video_urls\n",
    "\n",
    "# Get list of video URLs\n",
    "video_urls = extract_video_urls(playlist_url)\n",
    "\n",
    "# Download each video\n",
    "for video_url in video_urls:\n",
    "    yt = YouTube(video_url)\n",
    "    stream = yt.streams.filter(progressive=True, file_extension='mp4').first()\n",
    "    stream.download(output_path='C:\\\\Users\\\\MR\\\\Desktop')\n"
   ]
  },
  {
   "cell_type": "code",
   "execution_count": null,
   "metadata": {},
   "outputs": [],
   "source": [
    "pip install pandas"
   ]
  },
  {
   "cell_type": "code",
   "execution_count": null,
   "metadata": {},
   "outputs": [],
   "source": [
    "pip install pyarrow"
   ]
  },
  {
   "cell_type": "code",
   "execution_count": null,
   "metadata": {},
   "outputs": [],
   "source": [
    "pip install openpyxl"
   ]
  },
  {
   "cell_type": "code",
   "execution_count": 1,
   "metadata": {},
   "outputs": [
    {
     "name": "stdout",
     "output_type": "stream",
     "text": [
      "['https://www.youtube.com/@user-im2bx5uh8x/shorts#', 'https://www.youtube.com/shorts/CbJfPkRJ4rQ', 'https://www.youtube.com/shorts/xCYloUtWeN8', 'https://www.youtube.com/shorts/an1rTUdIkZY', 'https://www.youtube.com/shorts/XgPglrAJtjk', 'https://www.youtube.com/shorts/Ip0bHsku9hI', 'https://www.youtube.com/shorts/0XONSFZ93Lg', 'https://www.youtube.com/shorts/5V03Zp5TjY4', 'https://www.youtube.com/shorts/cGVbQbki5SU', 'https://www.youtube.com/shorts/ySNjVrL3nTY', 'https://www.youtube.com/shorts/pm-7OA5Vzhk', 'https://www.youtube.com/shorts/UX3Ta90-glY', 'https://www.youtube.com/shorts/a62nKpYuMGs', 'https://www.youtube.com/shorts/kdLx1tOD2wc', 'https://www.youtube.com/shorts/0RUulOVo428', 'https://www.youtube.com/shorts/Bo4bOwK3vQY', 'https://www.youtube.com/shorts/ygUte504b98', 'https://www.youtube.com/shorts/ehZ0xV1aELU', 'https://www.youtube.com/shorts/nqaeuxRvlkA', 'https://www.youtube.com/shorts/p9pXNeWNP94', 'https://www.youtube.com/shorts/am9ylrp-Vgo', 'https://www.youtube.com/shorts/fxtp2kwKEEA', 'https://www.youtube.com/shorts/CyXFvzUEGog', 'https://www.youtube.com/shorts/G-YYMzubZi4', 'https://www.youtube.com/shorts/UNRP0mbdAUk', 'https://www.youtube.com/shorts/LebPIun0mKA', 'https://www.youtube.com/shorts/o39pCpv7e6k', 'https://www.youtube.com/shorts/rSEXGMRD4ho', 'https://www.youtube.com/shorts/CFA0wbXRTNU', 'https://www.youtube.com/shorts/oBPaJB_hMZo', 'https://www.youtube.com/shorts/QBuD9rm0OI0', 'https://www.youtube.com/shorts/5esXQt5lsCs', 'https://www.youtube.com/shorts/ePPA_r7W4Ng', 'https://www.youtube.com/shorts/KDzPawknbow', 'https://www.youtube.com/shorts/obJqFn4q9jc', 'https://www.youtube.com/shorts/tdZ1AMtS-pg', 'https://www.youtube.com/shorts/BaboTLNGzkk', 'https://www.youtube.com/shorts/FMQkFTcmPWE', 'https://www.youtube.com/shorts/UzmKF8wi5Ec', 'https://www.youtube.com/shorts/t4fSDDbJhls', 'https://www.youtube.com/shorts/FTYY4xIjqgs', 'https://www.youtube.com/shorts/xxMJhz0Sx4I', 'https://www.youtube.com/shorts/8trynbaHgvk', 'https://www.youtube.com/shorts/dT40lMb4ivo', 'https://www.youtube.com/shorts/678W7SlIcSM', 'https://www.youtube.com/shorts/pDl8OiQesTI', 'https://www.youtube.com/shorts/tCFh9kwZ-jw', 'https://www.youtube.com/shorts/pT9pLAf-Td4', 'https://www.youtube.com/shorts/Q7XCePo8IJk', 'https://www.youtube.com/shorts/Jq_P_SokMJs', 'https://www.youtube.com/shorts/hMHG3cv2w2I', 'https://www.youtube.com/shorts/VyEJulOH80Y', 'https://www.youtube.com/shorts/_1fzesSRKsA', 'https://www.youtube.com/shorts/kpUA8FyXz38', 'https://www.youtube.com/shorts/RmInzzshbKU', 'https://www.youtube.com/shorts/1aCjyBjIzwI', 'https://www.youtube.com/shorts/Lzd59aYQ-BQ', 'https://www.youtube.com/shorts/VDaklkGt4dw', 'https://www.youtube.com/shorts/ampTIJ___00', 'https://www.youtube.com/shorts/TPKH6JRcVkU', 'https://www.youtube.com/shorts/0T4eIuKhebk', 'https://www.youtube.com/shorts/yqP6iyBFoAY', 'https://www.youtube.com/shorts/H9nmbjvHJTo', 'https://www.youtube.com/shorts/_TriZEMdK8Y', 'https://www.youtube.com/shorts/UujqVd3WPMI', 'https://www.youtube.com/shorts/PSTH8GGc-fU', 'https://www.youtube.com/shorts/TzAhrbMEW0o', 'https://www.youtube.com/shorts/_9cWGtGxLek', 'https://www.youtube.com/shorts/Kbdiw44ghvk', 'https://www.youtube.com/shorts/q1FwX-3JLxg', 'https://www.youtube.com/shorts/L4JADiwfiuA', 'https://www.youtube.com/shorts/KPSzkGWtuCI', 'https://www.youtube.com/shorts/UiyCJ0dE3cw', 'https://www.youtube.com/shorts/37cGEgnsjSY', 'https://www.youtube.com/shorts/AGP26Ox-4TA', 'https://www.youtube.com/shorts/YSh7NfWStVY', 'https://www.youtube.com/shorts/S_jqAf5JgYk', 'https://www.youtube.com/shorts/rZ_u7nFv6xs', 'https://www.youtube.com/shorts/8xxucNlAr_8', 'https://www.youtube.com/shorts/tIV34TNfgtA', 'https://www.youtube.com/shorts/Z6ZZ00xYouw', 'https://www.youtube.com/shorts/tlLzU3KXaGE', 'https://www.youtube.com/shorts/BV3XPP8wRzQ', 'https://www.youtube.com/shorts/GF04EL0uz7E', 'https://www.youtube.com/shorts/R1WomtMgwGo', 'https://www.youtube.com/shorts/Zz7B0X_imxQ', 'https://www.youtube.com/shorts/QtGksLwNUJw', 'https://www.youtube.com/shorts/c2PWncBYCMY', 'https://www.youtube.com/shorts/dXjAxkEruu8', 'https://www.youtube.com/shorts/rS1UAHVCstY', 'https://www.youtube.com/shorts/QDY5akc0l6Y', 'https://www.youtube.com/shorts/ssuqjxB9xmQ', 'https://www.youtube.com/shorts/GYLd6O04uhU', 'https://www.youtube.com/shorts/FM3K9PJhZvc', 'https://www.youtube.com/shorts/CP0JHm7y__4', 'https://www.youtube.com/shorts/hN3hAFU5feQ', 'https://www.youtube.com/shorts/b6B6Ud0QYQE', 'https://www.youtube.com/shorts/OQxxzyguJDY', 'https://www.youtube.com/shorts/G-nMTrJ0TPY', 'https://www.youtube.com/shorts/7DDigkDPH0A', 'https://www.youtube.com/shorts/gqEO8d0lOPw', 'https://www.youtube.com/shorts/AnZzsbr7L-Y', 'https://www.youtube.com/shorts/TRGEOBn9fOM', 'https://www.youtube.com/shorts/xJERai_sGqA', 'https://www.youtube.com/shorts/aChitAn2jag', 'https://www.youtube.com/shorts/3yLEF9BAL2A', 'https://www.youtube.com/shorts/Hwn6G-J-ETA', 'https://www.youtube.com/shorts/n1niduNjbwA', 'https://www.youtube.com/shorts/W8FdhqR6gLI', 'https://www.youtube.com/shorts/OWY7cD5kWlw', 'https://www.youtube.com/shorts/jj3VlZH7qDE', 'https://www.youtube.com/shorts/N8M0y4RfUfE', 'https://www.youtube.com/shorts/uEZhOZOYvAE', 'https://www.youtube.com/shorts/azAnhCvfdqE', 'https://www.youtube.com/shorts/V86rPztuNZk', 'https://www.youtube.com/shorts/O_Ja-3cHNgQ', 'https://www.youtube.com/shorts/qeyeAP7dIOg', 'https://www.youtube.com/shorts/KUMYI1JU4Io', 'https://www.youtube.com/shorts/iWJg-j81Fi0', 'https://www.youtube.com/shorts/mqSO53HZgh4', 'https://www.youtube.com/shorts/CA4-a7xhKYc', 'https://www.youtube.com/shorts/RNZeHyAsQaM', 'https://www.youtube.com/shorts/mCiXNd3nCUY', 'https://www.youtube.com/shorts/BOLrBYZOZMM', 'https://www.youtube.com/shorts/vcMAyWi0cDs', 'https://www.youtube.com/shorts/Br0govwJ8Yo', 'https://www.youtube.com/shorts/1VeSWvrKeUE', 'https://www.youtube.com/shorts/b8o-ZJHcWxs', 'https://www.youtube.com/shorts/z50FqlFSfmQ', 'https://www.youtube.com/shorts/xR3CPilCd2Y', 'https://www.youtube.com/shorts/EWVI3CyK7TM', 'https://www.youtube.com/shorts/P8jDaXKVG_8', 'https://www.youtube.com/shorts/so4iv2l6_Xk', 'https://www.youtube.com/shorts/O3VVeaNsoW8', 'https://www.youtube.com/shorts/aQ6KIZNd2J4', 'https://www.youtube.com/shorts/9go8krJUx_c', 'https://www.youtube.com/shorts/tMC8ftMnNGs', 'https://www.youtube.com/shorts/josPzQPqlto', 'https://www.youtube.com/shorts/_bM60-bkUgc', 'https://www.youtube.com/shorts/D2pRP4hVz_8', 'https://www.youtube.com/shorts/JSIhGCBjUVo', 'https://www.youtube.com/shorts/QVTnb-yVOEA', 'https://www.youtube.com/shorts/DQtrZ4WMNNA', 'https://www.youtube.com/shorts/j4M0HP5k_YM', 'https://www.youtube.com/shorts/zTpEtbV_CSo', 'https://www.youtube.com/shorts/eMd9yKbN2Xk', 'https://www.youtube.com/shorts/K0FvFYxtLhE', 'https://www.youtube.com/shorts/1cuftBmSYyU', 'https://www.youtube.com/shorts/q7xeVldyxQ0', 'https://www.youtube.com/shorts/9--5a8x0aWc', 'https://www.youtube.com/shorts/FgIT6lSFZXk', 'https://www.youtube.com/shorts/feLRA7wHTj4', 'https://www.youtube.com/shorts/XxWHGwmID_k', 'https://www.youtube.com/shorts/S8G5gGusKzo', 'https://www.youtube.com/shorts/K4rWL0jJUQg', 'https://www.youtube.com/shorts/ELNj8DfpJhU', 'https://www.youtube.com/shorts/Rh3OyNlWeM8', 'https://www.youtube.com/shorts/Bxf3Pj6ZHUM', 'https://www.youtube.com/shorts/xk49U3PPdQU', 'https://www.youtube.com/shorts/9qdKZKcXqlM', 'https://www.youtube.com/shorts/Mmq7jpSAZTk', 'https://www.youtube.com/shorts/tg_c4l5-wsI', 'https://www.youtube.com/shorts/08RTY7pwvIY', 'https://www.youtube.com/shorts/M-rn4IyZhho', 'https://www.youtube.com/shorts/Q8qBtzUPe0E', 'https://www.youtube.com/shorts/kjS-NSY_ZxE', 'https://www.youtube.com/shorts/kVSi16chgA8', 'https://www.youtube.com/shorts/TTnGKBTznks', 'https://www.youtube.com/shorts/zPnkkOiR2uM', 'https://www.youtube.com/shorts/sNPw20ygGVQ', 'https://www.youtube.com/shorts/kXyw5seyDws', 'https://www.youtube.com/shorts/HfFvc3Lo3BE', 'https://www.youtube.com/shorts/5745J3sYN6U', 'https://www.youtube.com/shorts/S8gX92zYoYk', 'https://www.youtube.com/shorts/21oJD_nhxwI', 'https://www.youtube.com/shorts/L183K_asxWI', 'https://www.youtube.com/shorts/IuZM1AdzhPk', 'https://www.youtube.com/shorts/dDTGhs2TKhg', 'https://www.youtube.com/shorts/65R8RlOShvg', 'https://www.youtube.com/shorts/Nx4fcrRP1fI', 'https://www.youtube.com/shorts/_CFew7q9D4I', 'https://www.youtube.com/shorts/So9V69E_w4c', 'https://www.youtube.com/shorts/FsbviNddYQA', 'https://www.youtube.com/shorts/yfU5ux7xfOw', 'https://www.youtube.com/shorts/CDRK-iqJC9s', 'https://www.youtube.com/shorts/Arc0P4WwkJ8', 'https://www.youtube.com/shorts/sTVfsnrLJTc', 'https://www.youtube.com/shorts/3qK-OF2gvbI', 'https://www.youtube.com/shorts/4oVRSn3V3Os', 'https://www.youtube.com/shorts/1vC5rkmjItU', 'https://www.youtube.com/shorts/JxXUjuV9SR0', 'https://www.youtube.com/shorts/1_4Jr2St_6k', 'https://www.youtube.com/shorts/oprUO8XKdlg', 'https://www.youtube.com/shorts/tbfv1GOZZSY', 'https://www.youtube.com/shorts/A7-9aGBOUjQ', 'https://www.youtube.com/shorts/-VOCkJQQwcY', 'https://www.youtube.com/shorts/UWBB7W4HBZw', 'https://www.youtube.com/shorts/Fu_ivtPtW2A', 'https://www.youtube.com/shorts/RZUh9CLGmss', 'https://www.youtube.com/shorts/67iq-pYSEnM', 'https://www.youtube.com/shorts/1G-S7AspG5c', 'https://www.youtube.com/shorts/rVoMi0sIyCA', 'https://www.youtube.com/shorts/6PwEqHn5yX4', 'https://www.youtube.com/shorts/0HCtGL_380I', 'https://www.youtube.com/shorts/ihg1e2QHyew', 'https://www.youtube.com/shorts/F59vDDOAWww', 'https://www.youtube.com/shorts/VWPdQ4x43Ek', 'https://www.youtube.com/shorts/--kL27X7S9I', 'https://www.youtube.com/shorts/Ht9Rsyj2pTI', 'https://www.youtube.com/shorts/t28Sdupam8c', 'https://www.youtube.com/shorts/5o_zdTia3Dc', 'https://www.youtube.com/shorts/Oov8hexh2HA', 'https://www.youtube.com/shorts/ooqzJrlxmXg', 'https://www.youtube.com/shorts/G3eHDAexonA', 'https://www.youtube.com/shorts/t3AA86jTysk', 'https://www.youtube.com/shorts/DZIPZXLlO90', 'https://www.youtube.com/shorts/1sFmgbUqFWM', 'https://www.youtube.com/shorts/bqLjtzVMmkg', 'https://www.youtube.com/shorts/kD0klyXOrdI', 'https://www.youtube.com/shorts/vZfKTvmTj5I', 'https://www.youtube.com/shorts/Dyw87qOWruU', 'https://www.youtube.com/shorts/JBO7PNI99aM', 'https://www.youtube.com/shorts/8wGKUSx-ZNY', 'https://www.youtube.com/shorts/jKjs8UirEAY', 'https://www.youtube.com/shorts/AG7223wcssg', 'https://www.youtube.com/shorts/9ta4qyh0Y1c', 'https://www.youtube.com/shorts/9WaSaESzlRQ', 'https://www.youtube.com/shorts/4onHDpkmgXw', 'https://www.youtube.com/shorts/YV0yYP_BXBE', 'https://www.youtube.com/shorts/1iatufPDVGA', 'https://www.youtube.com/shorts/NRrenR8GbZ8', 'https://www.youtube.com/shorts/VK8EHDbmgyE', 'https://www.youtube.com/shorts/dPTUprVa17I', 'https://www.youtube.com/shorts/NtUcbGPpqjk', 'https://www.youtube.com/shorts/rLKoaVtJJzU', 'https://www.youtube.com/shorts/Try1Ab4EkTQ', 'https://www.youtube.com/shorts/s8JM5jB_geo', 'https://www.youtube.com/shorts/36LrWwQLYos', 'https://www.youtube.com/shorts/vuHgti-wZ_s', 'https://www.youtube.com/shorts/_BqC_IhpOzI', 'https://www.youtube.com/shorts/UQHouJTsBkc', 'https://www.youtube.com/shorts/Scrv_pW9IAg', 'https://www.youtube.com/shorts/l9tyMtP3W2Y', 'https://www.youtube.com/shorts/XySDi4Sly30', 'https://www.youtube.com/shorts/D-vEhYDVeNw', 'https://www.youtube.com/shorts/bqq_sJm29R8', 'https://www.youtube.com/shorts/bBOPFOPXxsg', 'https://www.youtube.com/shorts/0Sq0rjFtHPA', 'https://www.youtube.com/shorts/RhdkhjnEMxE', 'https://www.youtube.com/shorts/HAzdbRECp9k', 'https://www.youtube.com/shorts/gKjpsMfE7lw', 'https://www.youtube.com/shorts/Ll0P12h6Ljg', 'https://www.youtube.com/shorts/XCZEMbi4Y80', 'https://www.youtube.com/shorts/t8mpyZI3Glc', 'https://www.youtube.com/shorts/dZ1wf3ivjnc', 'https://www.youtube.com/shorts/fpb87rzhQi4', 'https://www.youtube.com/shorts/GVktTKlKfac', 'https://www.youtube.com/shorts/25NEO2Bx3SM', 'https://www.youtube.com/shorts/sJ00rBNnMt4', 'https://www.youtube.com/shorts/9M6VBSB_Bh4', 'https://www.youtube.com/shorts/yno54_b9P-s', 'https://www.youtube.com/shorts/iKD_ZVXZF5Y', 'https://www.youtube.com/shorts/dkMeP-eTDVI', 'https://www.youtube.com/shorts/NIudJJtsEu8', 'https://www.youtube.com/shorts/GSMRSPbnY-Y', 'https://www.youtube.com/shorts/ePvagZQp48Y', 'https://www.youtube.com/shorts/ghr6fgudtlE', 'https://www.youtube.com/shorts/lafkIX51pK8', 'https://www.youtube.com/shorts/Gcoiha23Gyk', 'https://www.youtube.com/shorts/QiDy86H7JDw', 'https://www.youtube.com/shorts/zeJ3vWFeimY', 'https://www.youtube.com/shorts/RdEk1tvnUoM', 'https://www.youtube.com/shorts/AtPrvp_gnto', 'https://www.youtube.com/shorts/kU1yFtqGhf0', 'https://www.youtube.com/shorts/Kxwz77F9xwU', 'https://www.youtube.com/shorts/BRCA6nDLnmE', 'https://www.youtube.com/shorts/_vzdj9wZf5o', 'https://www.youtube.com/shorts/CliZsS3mSk8', 'https://www.youtube.com/shorts/QhNBOloi36A', 'https://www.youtube.com/shorts/OEexVAgJIYI', 'https://www.youtube.com/shorts/xaf6sqUGiLE', 'https://www.youtube.com/shorts/J-1aVVEe2dg', 'https://www.youtube.com/shorts/ZS-Khd-D8R8', 'https://www.youtube.com/shorts/tpiOAJU1y8E', 'https://www.youtube.com/shorts/8xHz_7u1jBQ', 'https://www.youtube.com/shorts/2yBT5uOKwwU', 'https://www.youtube.com/shorts/9OSckM1VPbM', 'https://www.youtube.com/shorts/Boi_9W2f68E', 'https://www.youtube.com/shorts/Q4IdBd11_Aw', 'https://www.youtube.com/shorts/qUgDwjHlOY8', 'https://www.youtube.com/shorts/h5QFlVbgTXQ', 'https://www.youtube.com/shorts/oU7gUieKr2A', 'https://www.youtube.com/shorts/GuM1GbphfMo', 'https://www.youtube.com/shorts/LQhq6vLB1IA', 'https://www.youtube.com/shorts/pMkpn1YH3n0', 'https://www.youtube.com/shorts/9YL8l4r9Nng', 'https://www.youtube.com/shorts/fS_-GFmbD1I', 'https://www.youtube.com/shorts/Bd2UPEX8DT8', 'https://www.youtube.com/shorts/QNp6X9huroI', 'https://www.youtube.com/shorts/bnxggGAB3Vc', 'https://www.youtube.com/shorts/-riHCzQa-dI', 'https://www.youtube.com/shorts/yr-8xEX-uAM', 'https://www.youtube.com/shorts/Tum8E5gvpVw', 'https://www.youtube.com/shorts/ICYnbNgVXlI', 'https://www.youtube.com/shorts/ZJdhlb15rpc', 'https://www.youtube.com/shorts/yt_Q_o5dbug', 'https://www.youtube.com/shorts/Ao0_VmUqFCo', 'https://www.youtube.com/shorts/08n9ck8APhM', 'https://www.youtube.com/shorts/TTfOU2N_7ZA', 'https://www.youtube.com/shorts/AYyl9boSb6w', 'https://www.youtube.com/shorts/l7yBuXfyzZg', 'https://www.youtube.com/shorts/Ex6a2p4Z2v8', 'https://www.youtube.com/shorts/UvMRNunhov4', 'https://www.youtube.com/shorts/vaH5KT6bLTA', 'https://www.youtube.com/shorts/U6vjLcU-hlI', 'https://www.youtube.com/shorts/kpxHYTCNyN8', 'https://www.youtube.com/shorts/COjkpHtjh8c', 'https://www.youtube.com/shorts/TmbXBz8OlYI', 'https://www.youtube.com/shorts/exAWVK8CNas', 'https://www.youtube.com/shorts/DR6qoe8m-Yw', 'https://www.youtube.com/shorts/kXWw6EyyYeA', 'https://www.youtube.com/shorts/9p5iYL5JQqI', 'https://www.youtube.com/shorts/omEncNAIXYs', 'https://www.youtube.com/shorts/UkO-GTR971Q', 'https://www.youtube.com/shorts/9H_A2balm-M', 'https://www.youtube.com/shorts/bvkIG2o2OxQ', 'https://www.youtube.com/shorts/ViO9oWFS5e0', 'https://www.youtube.com/shorts/1ZR7IW4BT-Y', 'https://www.youtube.com/shorts/bv26-koI84c', 'https://www.youtube.com/shorts/YNIEcP3E3WQ', 'https://www.youtube.com/shorts/IOES2-_RWWA', 'https://www.youtube.com/shorts/gxED0jCJR7o', 'https://www.youtube.com/shorts/1rwpMTDM6Kk', 'https://www.youtube.com/shorts/S1UpUaZPy-o', 'https://www.youtube.com/shorts/yalGl9TJnuk', 'https://www.youtube.com/shorts/kzWObJBIo1o', 'https://www.youtube.com/shorts/Ju0ZtgqC6l8', 'https://www.youtube.com/shorts/IgUutLHV7jU', 'https://www.youtube.com/shorts/epPMPp3TTgs', 'https://www.youtube.com/shorts/qnj4p4_ga_A', 'https://www.youtube.com/shorts/J8j9C710Pm8', 'https://www.youtube.com/shorts/dk6ZjmnqQAo', 'https://www.youtube.com/shorts/TYK2mbTxE5g', 'https://www.youtube.com/shorts/Fz_I2b9Ia7w', 'https://www.youtube.com/shorts/fGa0w6zjmmY', 'https://www.youtube.com/shorts/0M7nKu2ry74', 'https://www.youtube.com/shorts/5IsSU_UmYIk', 'https://www.youtube.com/shorts/8M9GWhzwjWA', 'https://www.youtube.com/shorts/ueWuvz0dfig', 'https://www.youtube.com/shorts/xTkiJwhILo8', 'https://www.youtube.com/shorts/WEIgZeegIhQ', 'https://www.youtube.com/shorts/cCLHNEYGqWA', 'https://www.youtube.com/shorts/Oq4JN_rPgq0', 'https://www.youtube.com/shorts/LePSmz9mD0E', 'https://www.youtube.com/shorts/B1ZQB7MneKQ', 'https://www.youtube.com/shorts/wtSWRQOxCdo', 'https://www.youtube.com/shorts/tKmvDGFhQ-8', 'https://www.youtube.com/shorts/Ud7rkDIPtP4', 'https://www.youtube.com/shorts/0fXdn62Sxso', 'https://www.youtube.com/shorts/88OMvhUAFfw', 'https://www.youtube.com/shorts/K0nw7WtUZoA', 'https://www.youtube.com/shorts/FQliuU1VwDU', 'https://www.youtube.com/shorts/tubWYpycM_E', 'https://www.youtube.com/shorts/cPZRsAvBgsg', 'https://www.youtube.com/shorts/-5HUGQ6zbRA', 'https://www.youtube.com/shorts/TqhwL3bl7kE', 'https://www.youtube.com/shorts/trj0B4xsV98', 'https://www.youtube.com/shorts/fOEqYR-is54', 'https://www.youtube.com/shorts/hFHmo_xKkCw', 'https://www.youtube.com/shorts/wc7VMZBlBsw', 'https://www.youtube.com/shorts/__cV_yBaVQ0', 'https://www.youtube.com/shorts/NFqIS_TxNDo', 'https://www.youtube.com/shorts/37AIgFAi0U4', 'https://www.youtube.com/shorts/HURPK5WHeiE', 'https://www.youtube.com/shorts/cQgRufNVUDU', 'https://www.youtube.com/shorts/hBi2aT2LA_Y', 'https://www.youtube.com/shorts/aBMD3g5C5r8', 'https://www.youtube.com/shorts/oEO87BnV6sU', 'https://www.youtube.com/shorts/gtCTidWnRQk', 'https://www.youtube.com/shorts/CAtLpD1_C10', 'https://www.youtube.com/shorts/9h8dtSpRLxw', 'https://www.youtube.com/shorts/IRVGP1gEhBo', 'https://www.youtube.com/shorts/E75ZwWfVMsQ', 'https://www.youtube.com/shorts/njRKd1d6nSs', 'https://www.youtube.com/shorts/ZieK2VZfQtY', 'https://www.youtube.com/shorts/PpErKseCt8c', 'https://www.youtube.com/shorts/_Zl3ynYBRgI', 'https://www.youtube.com/shorts/SndixWebs1c', 'https://www.youtube.com/shorts/hwUyPi_j_R4', 'https://www.youtube.com/shorts/ISBm4UVpSNs', 'https://www.youtube.com/shorts/Qp9EOX3DhTw', 'https://www.youtube.com/shorts/bFcXJBUJMF4', 'https://www.youtube.com/shorts/ybndW_B5Czg', 'https://www.youtube.com/shorts/auF2hdeCZGA', 'https://www.youtube.com/shorts/B0ruryYq5tQ', 'https://www.youtube.com/shorts/dlPR5LpXRX0', 'https://www.youtube.com/shorts/a3lwkUgfDh4', 'https://www.youtube.com/shorts/9bE3w47R9m8', 'https://www.youtube.com/shorts/9NWY-gY-OWs', 'https://www.youtube.com/shorts/BcxalKbZfMs', 'https://www.youtube.com/shorts/3UY74Uku5XM', 'https://www.youtube.com/shorts/T91o6TBNPCs', 'https://www.youtube.com/shorts/N-5MIzj1MQw', 'https://www.youtube.com/shorts/7LiLD9s6sjs', 'https://www.youtube.com/shorts/_5MDPikrMyA', 'https://www.youtube.com/shorts/_I4WJXpZBXE', 'https://www.youtube.com/shorts/6ZCmN97DwHA', 'https://www.youtube.com/shorts/hoIj7w1sdHU', 'https://www.youtube.com/shorts/GoQC-XzYctU', 'https://www.youtube.com/shorts/8AnMEzDbEE0', 'https://www.youtube.com/shorts/FyNDI1J6n20', 'https://www.youtube.com/shorts/cnAJYtK20Ww', 'https://www.youtube.com/shorts/9mm5EUxNZzE', 'https://www.youtube.com/shorts/wUcmW908aTY', 'https://www.youtube.com/shorts/SmRgFCwF8gg', 'https://www.youtube.com/shorts/KMoQsfiMDPc', 'https://www.youtube.com/shorts/YVk9DdTFwsw', 'https://www.youtube.com/shorts/fnIIXyCFyTo', 'https://www.youtube.com/shorts/TSLcmroxw3o', 'https://www.youtube.com/shorts/Lu6VYnkU9H8', 'https://www.youtube.com/shorts/27K6bYLQoA8', 'https://www.youtube.com/shorts/8u5HpqXU48A', 'https://www.youtube.com/shorts/N4ferzhF_0o', 'https://www.youtube.com/shorts/sqm1rvJ2hZ8', 'https://www.youtube.com/shorts/ZtxzAEiQuVs', 'https://www.youtube.com/shorts/5uSWqFyscgM', 'https://www.youtube.com/shorts/7YhXJFmaoDM', 'https://www.youtube.com/shorts/Yu9hkoffvNQ', 'https://www.youtube.com/shorts/tfdtnhElE84', 'https://www.youtube.com/shorts/6DBhO9ddAsI', 'https://www.youtube.com/shorts/J7aGgAHWW9A', 'https://www.youtube.com/shorts/SNo0jBTWUbM', 'https://www.youtube.com/shorts/C7rx9lUXbT4', 'https://www.youtube.com/shorts/ZBTLxGZv3XA', 'https://www.youtube.com/shorts/UZ02rH7jcYo', 'https://www.youtube.com/shorts/uDBZX9sK8Jc', 'https://www.youtube.com/shorts/LdBQ0glHTDc', 'https://www.youtube.com/shorts/7nszpNkseiM', 'https://www.youtube.com/shorts/PWgwE0u4zIY', 'https://www.youtube.com/shorts/FbzxKDeTaOM', 'https://www.youtube.com/shorts/vl-hBF2qOao', 'https://www.youtube.com/shorts/mW-1TsghrCw', 'https://www.youtube.com/shorts/RDEBg8Ny9H0', 'https://www.youtube.com/shorts/HDAqBR0P_6w', 'https://www.youtube.com/shorts/QVYlyGEpDyA', 'https://www.youtube.com/shorts/dSZckEtbZXw', 'https://www.youtube.com/shorts/R0ZCvBG3eJE', 'https://www.youtube.com/shorts/zSyfD3hfyLQ', 'https://www.youtube.com/shorts/SZlBBJCyFNI', 'https://www.youtube.com/shorts/R0tUoL3FjaU', 'https://www.youtube.com/shorts/Bui4gh1p1bM', 'https://www.youtube.com/shorts/WhK7gOYCIo0', 'https://www.youtube.com/shorts/9MIR2h2eTBE', 'https://www.youtube.com/shorts/idq50wskrsQ', 'https://www.youtube.com/shorts/FrtNzZTidCg', 'https://www.youtube.com/shorts/j3HqOrKkzic', 'https://www.youtube.com/shorts/1-qaBD_E0uk', 'https://www.youtube.com/shorts/XN1cq9wR--E', 'https://www.youtube.com/shorts/Fmbq05yWd5k', 'https://www.youtube.com/shorts/Zk_-yUCM4gs', 'https://www.youtube.com/shorts/2HIifAvIuNs', 'https://www.youtube.com/shorts/CkBFfz709tU', 'https://www.youtube.com/shorts/orz6-roj5IU', 'https://www.youtube.com/shorts/Gyu9-LzPLPo', 'https://www.youtube.com/shorts/3IkzlLLXuMg', 'https://www.youtube.com/shorts/rG0zRQLpSRg', 'https://www.youtube.com/shorts/Gky6aMzzA3M', 'https://www.youtube.com/shorts/2fqyzwkfFCk', 'https://www.youtube.com/shorts/4HE_SYx5nTg', 'https://www.youtube.com/shorts/QT_jw5oRRXY', 'https://www.youtube.com/shorts/SXV3nSeXaTk', 'https://www.youtube.com/shorts/XDrz8ztUptA', 'https://www.youtube.com/shorts/RQgwOKWlTKI', 'https://www.youtube.com/shorts/GBtM5ixLCZU', 'https://www.youtube.com/shorts/qPf2OasSpxg', 'https://www.youtube.com/shorts/NDTsEyJ6sjg', 'https://www.youtube.com/shorts/6wOuOkMtIpA', 'https://www.youtube.com/shorts/DtFRwwTu-3Y', 'https://www.youtube.com/shorts/_RqVE-SxEh8', 'https://www.youtube.com/shorts/abPEpHi8efk', 'https://www.youtube.com/shorts/tDTYSPcxz0Y', 'https://www.youtube.com/shorts/I63JJznU6ik', 'https://www.youtube.com/shorts/EBpPmjNwRZE', 'https://www.youtube.com/shorts/dF9iuHiwrJE', 'https://www.youtube.com/shorts/RNPHPfMA-RQ', 'https://www.youtube.com/shorts/DRg4yMPfRMI', 'https://www.youtube.com/shorts/bujrt85tllo', 'https://www.youtube.com/shorts/1VGJJ1IhebM', 'https://www.youtube.com/shorts/ZhosTYUzdzI', 'https://www.youtube.com/shorts/O1nD-E4msYQ', 'https://www.youtube.com/shorts/98tiLvEPupI', 'https://www.youtube.com/shorts/MqTMXxhKKnI', 'https://www.youtube.com/shorts/UXmpRmeRGHY', 'https://www.youtube.com/shorts/j8xoI86e9OU', 'https://www.youtube.com/shorts/mvjx19RCZ7c', 'https://www.youtube.com/shorts/YpEGNC8J6vM', 'https://www.youtube.com/shorts/5ZvLTY11bGY', 'https://www.youtube.com/shorts/OlSqWll7s2c', 'https://www.youtube.com/shorts/y7LSLYdMYcA', 'https://www.youtube.com/shorts/Qdr6qncC8PI', 'https://www.youtube.com/shorts/ottT72xlVZ4', 'https://www.youtube.com/shorts/HbSaCzE_2C8', 'https://www.youtube.com/shorts/Uhy_dHkIHvo', 'https://www.youtube.com/shorts/3vhOVeAFF2w', 'https://www.youtube.com/shorts/GZRfHHtdM1o', 'https://www.youtube.com/shorts/qqyrTqhcvZA', 'https://www.youtube.com/shorts/BG2jdTWyKNo', 'https://www.youtube.com/shorts/W9JCAYHeSjw', 'https://www.youtube.com/shorts/T85lOdD4sHk', 'https://www.youtube.com/shorts/vbrqP4x9kr8', 'https://www.youtube.com/shorts/oBG_nMyrCXg', 'https://www.youtube.com/shorts/Uc8a7tfAajA', 'https://www.youtube.com/shorts/-csmb7mK-EA', 'https://www.youtube.com/shorts/RFr1VBWHChs', 'https://www.youtube.com/shorts/ZI8PXSWMG8k', 'https://www.youtube.com/shorts/1rYfxOkwFFI', 'https://www.youtube.com/shorts/Wze2o1J_QTU', 'https://www.youtube.com/shorts/UX4qy8OE4mk', 'https://www.youtube.com/shorts/DSxsPY0LjpE', 'https://www.youtube.com/shorts/-TH9eJ8croA', 'https://www.youtube.com/shorts/hB7fs0lYkEE', 'https://www.youtube.com/shorts/GhW_j2YlF-c', 'https://www.youtube.com/shorts/x6c69K286Us', 'https://www.youtube.com/shorts/6GKd45xqPdQ', 'https://www.youtube.com/shorts/xQBZB9IJd3I', 'https://www.youtube.com/shorts/gtpEsWiUW9k', 'https://www.youtube.com/shorts/RQfw9-uWDuU', 'https://www.youtube.com/shorts/JHi2p3YpkBo', 'https://www.youtube.com/shorts/6pkf6teqEww', 'https://www.youtube.com/shorts/YdjKSt723ys', 'https://www.youtube.com/shorts/dB8hdhXEP8M', 'https://www.youtube.com/shorts/LfLPvNGKTXU', 'https://www.youtube.com/shorts/zMu3GPsbN9g', 'https://www.youtube.com/shorts/bou6UeCX_6I', 'https://www.youtube.com/shorts/uzM-elNTYSo', 'https://www.youtube.com/shorts/dj3nWQHTSY0', 'https://www.youtube.com/shorts/mKc44cnKz5k', 'https://www.youtube.com/shorts/FJm7X0CkWiA', 'https://www.youtube.com/shorts/iOJMEtfjqH8', 'https://www.youtube.com/shorts/5cM_s_XsiRs', 'https://www.youtube.com/shorts/FcLaJ3QantI', 'https://www.youtube.com/shorts/I9tq4wWUe0Q', 'https://www.youtube.com/shorts/xzl_oZ1MGqc', 'https://www.youtube.com/shorts/AuDCZKMEmYA', 'https://www.youtube.com/shorts/DV6fh3m9WFU', 'https://www.youtube.com/shorts/snIqxq2T0Cw', 'https://www.youtube.com/shorts/5Fs5dNZV2fE', 'https://www.youtube.com/shorts/jeY10InA-jk', 'https://www.youtube.com/shorts/t0LGrKMl5Z0', 'https://www.youtube.com/shorts/mH69t6GWBwE', 'https://www.youtube.com/shorts/LBFT_5VZSx8', 'https://www.youtube.com/shorts/V69N3I6Bjj4', 'https://www.youtube.com/shorts/kbIPzTeth6s', 'https://www.youtube.com/shorts/pA57OiI4m_s', 'https://www.youtube.com/shorts/ZG_IOjyNxq0', 'https://www.youtube.com/shorts/fnFhXHdxHQs', 'https://www.youtube.com/shorts/uKKPMK0Y8MI', 'https://www.youtube.com/shorts/KLbyxHGNVLc', 'https://www.youtube.com/shorts/_j7yE8mwrRo', 'https://www.youtube.com/shorts/lxLcuHLvahs', 'https://www.youtube.com/shorts/UiFkuBcEsQg', 'https://www.youtube.com/shorts/p0-rAwJVftc', 'https://www.youtube.com/shorts/C4nlgvDP7Jc', 'https://www.youtube.com/shorts/7pufjjkpiNI', 'https://www.youtube.com/shorts/FlIgc9k3VVI', 'https://www.youtube.com/shorts/uStwfJlkg4E', 'https://www.youtube.com/shorts/mMvxadr3uGA', 'https://www.youtube.com/shorts/Pxn-uf-GKRA', 'https://www.youtube.com/shorts/L-EUYLA0j2s', 'https://www.youtube.com/shorts/o8n5_nwyLmM', 'https://www.youtube.com/shorts/eTvR0AF_bZY', 'https://www.youtube.com/shorts/ofJQIIIE1Xo', 'https://www.youtube.com/shorts/B_Xm0ETjWEg', 'https://www.youtube.com/shorts/VUU4XlMxyus', 'https://www.youtube.com/shorts/UFp_gONmXzk', 'https://www.youtube.com/shorts/dmxp4nReGG8', 'https://www.youtube.com/shorts/8r9tjbNZuD0', 'https://www.youtube.com/shorts/HgWgIjqjgIk', 'https://www.youtube.com/shorts/zG8vvdY0H_k', 'https://www.youtube.com/shorts/-NH3izcykAw', 'https://www.youtube.com/shorts/ppfE8z7yWPM', 'https://www.youtube.com/shorts/7b0TF1R9wf0', 'https://www.youtube.com/shorts/GBhjYZeGrqo', 'https://www.youtube.com/shorts/VvtxUPxZ-hE', 'https://www.youtube.com/shorts/pE2XYVTe6Xs', 'https://www.youtube.com/shorts/q0TZCpH-r2k', 'https://www.youtube.com/shorts/aGNQO_9kzWU', 'https://www.youtube.com/shorts/axpeBxoZ2ss', 'https://www.youtube.com/shorts/8ZQFRnw9Cqk', 'https://www.youtube.com/shorts/miEHbDENtEI', 'https://www.youtube.com/shorts/YKpnJNHxf4s', 'https://www.youtube.com/shorts/9cbiCLAgbOE', 'https://www.youtube.com/shorts/tGBvZ3bbgXE', 'https://www.youtube.com/shorts/woLlUhY07xk', 'https://www.youtube.com/shorts/H7P4OLkNenc', 'https://www.youtube.com/shorts/N17X0LyUvFM', 'https://www.youtube.com/shorts/X8XcJSzDXG4', 'https://www.youtube.com/shorts/iQHwfYc_cyU', 'https://www.youtube.com/shorts/RnKq5NLMKCo', 'https://www.youtube.com/shorts/FTlpEAxvyD8', 'https://www.youtube.com/shorts/RIIEXj--2eU', 'https://www.youtube.com/shorts/rm_ocWHjjFU', 'https://www.youtube.com/shorts/HcFeEpDY9yc', 'https://www.youtube.com/shorts/P3tauk1K9yM', 'https://www.youtube.com/shorts/Bh1ioQGT31Y', 'https://www.youtube.com/shorts/BGT8zgRk1bE', 'https://www.youtube.com/shorts/rtmRw87sTZ4', 'https://www.youtube.com/shorts/_WVf5HpEXJc', 'https://www.youtube.com/shorts/E3PotCr4V8Y', 'https://www.youtube.com/shorts/H4GnARSQcPo', 'https://www.youtube.com/shorts/AEVvwNRFaGc', 'https://www.youtube.com/shorts/Djn5nTbk0jk', 'https://www.youtube.com/shorts/UiRRhV4lfGA', 'https://www.youtube.com/shorts/0EKeOo9x3YQ', 'https://www.youtube.com/shorts/fKwc3DQoGbo', 'https://www.youtube.com/shorts/6iVT23kNiFI', 'https://www.youtube.com/shorts/arUwLA4cGTQ', 'https://www.youtube.com/shorts/UZurg0FHjvY', 'https://www.youtube.com/shorts/T9Vtd-LYbqU', 'https://www.youtube.com/shorts/LXNmQCYppL8', 'https://www.youtube.com/shorts/MN_tJ2Cx5ZM', 'https://www.youtube.com/shorts/zMRcV8Qy9Nw', 'https://www.youtube.com/shorts/U6Iw-S4ucS0', 'https://www.youtube.com/shorts/sJUHLZZesDs', 'https://www.youtube.com/shorts/RZWCvG1KGMg', 'https://www.youtube.com/shorts/1Hlq5cn8Qfw', 'https://www.youtube.com/shorts/bboBiM_NT7I', 'https://www.youtube.com/shorts/RV4OLJGiD5I', 'https://www.youtube.com/shorts/fQrIDUz5e8U', 'https://www.youtube.com/shorts/lQjeeaPd67M', 'https://www.youtube.com/shorts/qTJa1chdu0k', 'https://www.youtube.com/shorts/nGzff-3vZ3A', 'https://www.youtube.com/shorts/bkc3YFZ5a0c', 'https://www.youtube.com/shorts/vYE500hBRFM', 'https://www.youtube.com/shorts/SRalOUrRkM8', 'https://www.youtube.com/shorts/c2QQdcKLQwo', 'https://www.youtube.com/shorts/Ri27TLCtNn0', 'https://www.youtube.com/shorts/12R79uqs9GA', 'https://www.youtube.com/shorts/tEC0VFFmYo8', 'https://www.youtube.com/shorts/2nprXxBObZs', 'https://www.youtube.com/shorts/QxClbfioEGw', 'https://www.youtube.com/shorts/rqkm6snW97o', 'https://www.youtube.com/shorts/7ikyAW60vaA', 'https://www.youtube.com/shorts/Tn_wwCEYQ00', 'https://www.youtube.com/shorts/oA3y4W4AxQw', 'https://www.youtube.com/shorts/c3UBL1CGpYY', 'https://www.youtube.com/shorts/WJnzcxTLymk', 'https://www.youtube.com/shorts/axW0KhBE5Mc', 'https://www.youtube.com/shorts/0X2zJ_2f0fE', 'https://www.youtube.com/shorts/GcuCMeHOHus', 'https://www.youtube.com/shorts/2trcLAIgoqc', 'https://www.youtube.com/shorts/y5mUAhYxpdw', 'https://www.youtube.com/shorts/TrT20CF2UDc', 'https://www.youtube.com/shorts/Fc8iyXYeB8E', 'https://www.youtube.com/shorts/1HyTGMn1Cz8', 'https://www.youtube.com/shorts/VW-Mefddqhk', 'https://www.youtube.com/shorts/XUkr0ZkxN1o', 'https://www.youtube.com/shorts/YdesZVQZnhM', 'https://www.youtube.com/shorts/HfLt3hADrKs', 'https://www.youtube.com/shorts/jaGwfTBspXo', 'https://www.youtube.com/shorts/nIWONlRXkkU', 'https://www.youtube.com/shorts/T_Mj2ZHCuAM', 'https://www.youtube.com/shorts/qf-0fOaBKpU', 'https://www.youtube.com/shorts/2FW0RaqMMqw', 'https://www.youtube.com/shorts/syuWlwm3EAI', 'https://www.youtube.com/shorts/mFVHE67lqdE', 'https://www.youtube.com/shorts/eCz6LYrGdGQ', 'https://www.youtube.com/shorts/IiCaI9Wuiwo', 'https://www.youtube.com/shorts/cNvrRt07-PE', 'https://www.youtube.com/shorts/W26CGu4WoQY', 'https://www.youtube.com/shorts/kOvJwEeXmEY', 'https://www.youtube.com/shorts/qIrEcQANYVc', 'https://www.youtube.com/shorts/SsuwFeSfDKg', 'https://www.youtube.com/shorts/e14VLfwZpaA', 'https://www.youtube.com/shorts/WviO59hnT1s', 'https://www.youtube.com/shorts/kCXAfSt5aPI', 'https://www.youtube.com/shorts/ZrKnct8sLAw', 'https://www.youtube.com/shorts/T4ZChZjqEdM', 'https://www.youtube.com/shorts/DTuM31aTerY', 'https://www.youtube.com/shorts/Y8jsPzOms9c', 'https://www.youtube.com/shorts/V1IuS92VoDg', 'https://www.youtube.com/shorts/VAGSPsaurvk', 'https://www.youtube.com/shorts/9FxLQ9K3iyI', 'https://www.youtube.com/shorts/FxM0AnMs5dc', 'https://www.youtube.com/shorts/qm-6zwwIYWM', 'https://www.youtube.com/shorts/iMpcYyuU1Ec', 'https://www.youtube.com/shorts/o-MvCrQlh5o', 'https://www.youtube.com/shorts/bM_LZXYMqyg', 'https://www.youtube.com/shorts/tny4NhuPwcw', 'https://www.youtube.com/shorts/fMaVy5LEBKc', 'https://www.youtube.com/shorts/7mEWtvT_90c', 'https://www.youtube.com/shorts/QfrTwknVhRg', 'https://www.youtube.com/shorts/wflDtqnDy6Q', 'https://www.youtube.com/shorts/WjMviLvGxWU', 'https://www.youtube.com/shorts/_HjRFiuon5A', 'https://www.youtube.com/shorts/PARr2ZWWtHU', 'https://www.youtube.com/shorts/3pzululHga8', 'https://www.youtube.com/shorts/KdJgMlUJQuM', 'https://www.youtube.com/shorts/_G2aUS_Tv5U', 'https://www.youtube.com/shorts/H9VBNRFpPVs', 'https://www.youtube.com/shorts/Vbj2z_baI0c', 'https://www.youtube.com/shorts/IWPTeph77WI', 'https://www.youtube.com/shorts/BwHZ_ZEY7EU', 'https://www.youtube.com/shorts/LKWNqEas-Ks', 'https://www.youtube.com/shorts/WNDV7MuV3Ew', 'https://www.youtube.com/shorts/KunsYbKG0s4', 'https://www.youtube.com/shorts/jKzhhOelvEs', 'https://www.youtube.com/shorts/7-fQYCjXeqs', 'https://www.youtube.com/shorts/wtAGSMb73bo', 'https://www.youtube.com/shorts/Ir4BlD4kgfE', 'https://www.youtube.com/shorts/711JLmDZQMk', 'https://www.youtube.com/shorts/jih7VISwnNM', 'https://www.youtube.com/shorts/xVojuFQcK9g', 'https://www.youtube.com/shorts/pGJUFcXHlQk', 'https://www.youtube.com/shorts/2hY8_OWwSq0', 'https://www.youtube.com/shorts/Qh5A9mt76XQ', 'https://www.youtube.com/shorts/xzrpEN6nSZY', 'https://www.youtube.com/shorts/TrKelPGIhgg', 'https://www.youtube.com/shorts/n-QN0WCqbCs', 'https://www.youtube.com/shorts/YhgEKhzyktg', 'https://www.youtube.com/shorts/rA5-fQ2r6oU', 'https://www.youtube.com/shorts/5zwlzugUAcQ', 'https://www.youtube.com/shorts/3envvNyovjg', 'https://www.youtube.com/shorts/QdHikjOT1zA', 'https://www.youtube.com/shorts/TS1YQ-ne_CI', 'https://www.youtube.com/shorts/5Pyhfu4GSO0', 'https://www.youtube.com/shorts/SZazZeXiYdU', 'https://www.youtube.com/shorts/umtDHbvMa3g', 'https://www.youtube.com/shorts/5fBSvKdtxE4', 'https://www.youtube.com/shorts/RnfhHz1jDsY', 'https://www.youtube.com/shorts/oago_bf7P6E', 'https://www.youtube.com/shorts/sqpGoehatsY', 'https://www.youtube.com/shorts/_RE0qBtZTLk', 'https://www.youtube.com/shorts/8y22HmzOnnE', 'https://www.youtube.com/shorts/47muH85jcGQ', 'https://www.youtube.com/shorts/GbQK7IpVToE', 'https://www.youtube.com/shorts/fAE4rOlyeVs', 'https://www.youtube.com/shorts/SI6xQCkv8h8', 'https://www.youtube.com/shorts/ynkz2rsGBoQ', 'https://www.youtube.com/shorts/CG5tNpueRBo', 'https://www.youtube.com/shorts/GMfUWCG3dd0', 'https://www.youtube.com/shorts/TXQLSw-LoZM', 'https://www.youtube.com/shorts/__UYdXU_8O4', 'https://www.youtube.com/shorts/voIcEjFJVNs', 'https://www.youtube.com/shorts/15CxU2Jo-kc', 'https://www.youtube.com/shorts/pw10UMpuXzo', 'https://www.youtube.com/shorts/f1kYJxTDPjY', 'https://www.youtube.com/shorts/bikUUgmBp6U', 'https://www.youtube.com/shorts/pj5m3StsTWA', 'https://www.youtube.com/shorts/BTM0EfMINbQ', 'https://www.youtube.com/shorts/7qoXfaM_1dY', 'https://www.youtube.com/shorts/aZL3grG6Z5o', 'https://www.youtube.com/shorts/VogcUYxs-CU', 'https://www.youtube.com/shorts/46vJ6BRB8wI', 'https://www.youtube.com/shorts/gTOFgPXYzCI', 'https://www.youtube.com/shorts/lhLi-b54VrE', 'https://www.youtube.com/shorts/fW8-JDPSu-c', 'https://www.youtube.com/shorts/k10QKDBlWwo', 'https://www.youtube.com/shorts/3kmxW2oUtTE', 'https://www.youtube.com/shorts/AVtZkEV2E-0', 'https://www.youtube.com/shorts/WurPZmnLdAA', 'https://www.youtube.com/shorts/WNK0y0VvmP0', 'https://www.youtube.com/shorts/Wa35tvG3_uM', 'https://www.youtube.com/shorts/u_0t5wFnQu8', 'https://www.youtube.com/shorts/oYLRItNd9y0', 'https://www.youtube.com/shorts/4tLHsAllar0', 'https://www.youtube.com/shorts/YnbnRrAYMjs', 'https://www.youtube.com/shorts/Pkt7PMuYumo', 'https://www.youtube.com/shorts/9tlVXrCz1Yo', 'https://www.youtube.com/shorts/-yRQm3XjEuQ', 'https://www.youtube.com/shorts/QUpGv9WTRo0', 'https://www.youtube.com/shorts/0Rr8aonJaZQ', 'https://www.youtube.com/shorts/ibeaP8wnB1U', 'https://www.youtube.com/shorts/wMjO5ZMwraQ', 'https://www.youtube.com/shorts/y4X4jNtka78', 'https://www.youtube.com/shorts/6pz_waiz_I0', 'https://www.youtube.com/shorts/Lc07waoVUog', 'https://www.youtube.com/shorts/UxujXch1i9s', 'https://www.youtube.com/shorts/Hh8FSynsC7o', 'https://www.youtube.com/shorts/SReZV5KK_Cw', 'https://www.youtube.com/shorts/DZxHrWiGc3I', 'https://www.youtube.com/shorts/zrTKzUBHXj4', 'https://www.youtube.com/shorts/sT2N3Xiy6bg', 'https://www.youtube.com/shorts/_TCdmzC6Kpo', 'https://www.youtube.com/shorts/vT7Kvk9I4VU', 'https://www.youtube.com/shorts/wsgp_N-dFAY', 'https://www.youtube.com/shorts/8AUweglVFsY', 'https://www.youtube.com/shorts/G9-krnr_gu8', 'https://www.youtube.com/shorts/xccJyPuPU2k', 'https://www.youtube.com/shorts/CS2n9DkVCLQ', 'https://www.youtube.com/shorts/6uuk34JML-E', 'https://www.youtube.com/shorts/NGSDZtIiEmE', 'https://www.youtube.com/shorts/GAa5rvKK6m0', 'https://www.youtube.com/shorts/oKaqQ-On67o', 'https://www.youtube.com/shorts/mL638tr8k-o', 'https://www.youtube.com/shorts/GHRjwyf1jjU', 'https://www.youtube.com/@user-im2bx5uh8x/shorts']\n"
     ]
    }
   ],
   "source": [
    "import pandas as pd\n",
    "\n",
    "# Replace 'your_excel_file.xlsx' with the path to your Excel file\n",
    "# Replace 'Sheet1' with the name of the sheet containing your data\n",
    "# Replace 'Column_Name' with the name of the column containing the data\n",
    "df = pd.read_excel('mam.xlsx', sheet_name='Sheet1', usecols=['ab'])\n",
    "\n",
    "# Convert the column data into a Python list\n",
    "column_list = df['ab'].tolist()\n",
    "\n",
    "print(column_list)\n"
   ]
  },
  {
   "cell_type": "code",
   "execution_count": null,
   "metadata": {},
   "outputs": [],
   "source": [
    "pip install instaloader"
   ]
  },
  {
   "cell_type": "code",
   "execution_count": 4,
   "metadata": {},
   "outputs": [
    {
     "name": "stdout",
     "output_type": "stream",
     "text": [
      "instagram_reels\\2023-11-02_23-05-22_UTC.jpg [#explore] instagram_reels\\2023-11-02_23-05-22_UTC.mp4 json \n",
      "instagram_reels\\2023-11-02_17-30-04_UTC.jpg [#explore] instagram_reels\\2023-11-02_17-30-04_UTC.mp4 json \n"
     ]
    }
   ],
   "source": [
    "import instaloader\n",
    "import re\n",
    "\n",
    "def download_instagram_reels(reels_links):\n",
    "    L = instaloader.Instaloader()\n",
    "\n",
    "    for link in reels_links:\n",
    "        try:\n",
    "            # Extract post id from the reel link\n",
    "            match = re.search(r'/reel/([^/]+)/', link)\n",
    "            if match:\n",
    "                post_id = match.group(1)\n",
    "                post = instaloader.Post.from_shortcode(L.context, post_id)\n",
    "\n",
    "                if post.is_video and post.typename == 'GraphVideo':\n",
    "                    # Download the video\n",
    "                    L.download_post(post, target=\"instagram_reels\")\n",
    "                else:\n",
    "                    print(f\"Skipping non-video reel: {link}\")\n",
    "            else:\n",
    "                print(f\"Invalid reel link: {link}\")\n",
    "        except Exception as e:\n",
    "            print(f\"Error downloading reel from {link}: {e}\")\n",
    "\n",
    "if __name__ == \"__main__\":\n",
    "    reels_links = [\n",
    "        provide links here in the form of strings\n",
    "    ]  # Add Instagram reels links here\n",
    "    download_instagram_reels(reels_links)\n"
   ]
  }
 ],
 "metadata": {
  "kernelspec": {
   "display_name": "Python 3",
   "language": "python",
   "name": "python3"
  },
  "language_info": {
   "codemirror_mode": {
    "name": "ipython",
    "version": 3
   },
   "file_extension": ".py",
   "mimetype": "text/x-python",
   "name": "python",
   "nbconvert_exporter": "python",
   "pygments_lexer": "ipython3",
   "version": "3.12.2"
  }
 },
 "nbformat": 4,
 "nbformat_minor": 2
}
