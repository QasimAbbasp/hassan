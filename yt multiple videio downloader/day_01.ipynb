{
 "cells": [
  {
   "cell_type": "code",
   "execution_count": 2,
   "metadata": {},
   "outputs": [
    {
     "name": "stdout",
     "output_type": "stream",
     "text": [
      "Collecting pytube\n",
      "  Downloading pytube-15.0.0-py3-none-any.whl.metadata (5.0 kB)\n",
      "Downloading pytube-15.0.0-py3-none-any.whl (57 kB)\n",
      "   ---------------------------------------- 0.0/57.6 kB ? eta -:--:--\n",
      "   ---------------------------------------- 0.0/57.6 kB ? eta -:--:--\n",
      "   ------- -------------------------------- 10.2/57.6 kB ? eta -:--:--\n",
      "   -------------- ------------------------- 20.5/57.6 kB 162.5 kB/s eta 0:00:01\n",
      "   --------------------- ------------------ 30.7/57.6 kB 187.9 kB/s eta 0:00:01\n",
      "   ---------------------------- ----------- 41.0/57.6 kB 196.9 kB/s eta 0:00:01\n",
      "   ---------------------------------------- 57.6/57.6 kB 233.3 kB/s eta 0:00:00\n",
      "Installing collected packages: pytube\n",
      "Successfully installed pytube-15.0.0\n",
      "Note: you may need to restart the kernel to use updated packages.\n"
     ]
    }
   ],
   "source": [
    "pip install pytube\n"
   ]
  },
  {
   "cell_type": "code",
   "execution_count": 9,
   "metadata": {},
   "outputs": [
    {
     "name": "stdout",
     "output_type": "stream",
     "text": [
      "Downloading Month !! شعبان  #Shorts #MalikVlogsKZ💗...\n",
      "Month !! شعبان  #Shorts #MalikVlogsKZ💗 downloaded successfully.\n",
      "Downloading Shaheer Behna k lye Bari Doll laya #shorts #shortvideo #bhaibehenkapyar #shaheerjutt...\n",
      "Shaheer Behna k lye Bari Doll laya #shorts #shortvideo #bhaibehenkapyar #shaheerjutt downloaded successfully.\n",
      "Downloading Saud Ka Result ?? || #shorts #cartoon #dua...\n",
      "Saud Ka Result ?? || #shorts #cartoon #dua downloaded successfully.\n",
      "Downloading Allah Pak Se Mulaqat Ki #ghulamrasool  #ytshorts #shortsvideo #meraj #shabemairaj...\n",
      "Allah Pak Se Mulaqat Ki #ghulamrasool  #ytshorts #shortsvideo #meraj #shabemairaj downloaded successfully.\n",
      "Downloading Yuhi Rone Nahi Don Ga ❤️#shorts #shortvideo #youtubeshorts #shaheerjutt...\n",
      "Yuhi Rone Nahi Don Ga ❤️#shorts #shortvideo #youtubeshorts #shaheerjutt downloaded successfully.\n",
      "Downloading Shaheer ne bachi ki madad ki #shorts #shortvideo #youtubeshorts #shaheerjutt...\n",
      "Shaheer ne bachi ki madad ki #shorts #shortvideo #youtubeshorts #shaheerjutt downloaded successfully.\n"
     ]
    }
   ],
   "source": [
    "from pytube import YouTube\n",
    "\n",
    "# List of YouTube video URLs\n",
    "video_urls = [\n",
    "    \"https://www.youtube.com/shorts/Q7R3YswVTDs\",\n",
    "    \"https://www.youtube.com/shorts/uhX9wt79PtM\",\n",
    "    \"https://www.youtube.com/shorts/3Zxb_EgsQok\",\n",
    "    \"https://www.youtube.com/shorts/-KDSQM7XTLw\",\n",
    "    \"https://www.youtube.com/shorts/426EmmAKtY0\",\n",
    "    \"https://www.youtube.com/shorts/7nP9jVITjRI\"\n",
    "    # Add more video URLs as needed\n",
    "]\n",
    "\n",
    "# Function to download videos\n",
    "def download_videos(urls):\n",
    "    for url in urls:\n",
    "        try:\n",
    "            yt = YouTube(url)\n",
    "            stream = yt.streams.get_highest_resolution()\n",
    "            print(f\"Downloading {yt.title}...\")\n",
    "            stream.download()\n",
    "            print(f\"{yt.title} downloaded successfully.\")\n",
    "        except Exception as e:\n",
    "            print(f\"Error downloading {url}: {e}\")\n",
    "\n",
    "# Call the function with the list of video URLs\n",
    "download_videos(video_urls)\n"
   ]
  },
  {
   "cell_type": "code",
   "execution_count": 2,
   "metadata": {},
   "outputs": [
    {
     "name": "stdout",
     "output_type": "stream",
     "text": [
      "['https://www.youtube.com/shorts/q40bwwU0apE', 'https://www.youtube.com/shorts/RgZQmGppceg', 'https://www.youtube.com/shorts/hssHNM9ZKvY', 'https://www.youtube.com/shorts/C93kkncio5o', 'https://www.youtube.com/shorts/Q2maYkYyQlI', 'https://www.youtube.com/shorts/KRwRVWn-UpM', 'https://www.youtube.com/shorts/2UhGt-W83ys', 'https://www.youtube.com/shorts/351zI7uVrsU', 'https://www.youtube.com/shorts/uB7nUPN5LNA', 'https://www.youtube.com/shorts/NbxVI8VRr0s', 'https://www.youtube.com/shorts/U0w120BbCek', 'https://www.youtube.com/shorts/jH_SShAtE_8', 'https://www.youtube.com/shorts/diCtM4A0_uM', 'https://www.youtube.com/shorts/5YqrPpMxVAs', 'https://www.youtube.com/shorts/P3Br5643Ajs', 'https://www.youtube.com/shorts/ypWinSIMyk4', 'https://www.youtube.com/shorts/495iD51fxt8', 'https://www.youtube.com/shorts/aEYP-d6mZfQ', 'https://www.youtube.com/shorts/Zgb_rip8KXQ', 'https://www.youtube.com/shorts/B6IBmO3xZTM', 'https://www.youtube.com/shorts/PUjpwWkSQbY', 'https://www.youtube.com/shorts/SC1TutXTZII', 'https://www.youtube.com/shorts/spAi9phvFMA', 'https://www.youtube.com/shorts/5nuWUMcG3OY', 'https://www.youtube.com/shorts/OO0xMV6sgU8', 'https://www.youtube.com/shorts/C3_HWlgOVcQ', 'https://www.youtube.com/shorts/uBG6uNzkhWo', 'https://www.youtube.com/shorts/KKQvnEOsVLk', 'https://www.youtube.com/shorts/GpHzLw3SxLE', 'https://www.youtube.com/shorts/S44NvNrFL_E', 'https://www.youtube.com/shorts/EHJ_0D23mAA', 'https://www.youtube.com/shorts/Y5cHnRWRBSw', 'https://www.youtube.com/shorts/MWt0y641S14', 'https://www.youtube.com/shorts/21Z_dHZHag0', 'https://www.youtube.com/shorts/vACtjnmHsYQ', 'https://www.youtube.com/shorts/_VqkrehFsNg', 'https://www.youtube.com/shorts/q11lbnx2ar0']\n"
     ]
    }
   ],
   "source": [
    "# Open the text file containing the URLs\n",
    "with open(\"urls.txt\", \"r\") as file:\n",
    "    # Read each line (URL) from the file and strip any leading/trailing whitespace\n",
    "    urls = [line.strip() for line in file]\n",
    "\n",
    "# Print the list of URLs\n",
    "print(urls)\n"
   ]
  }
 ],
 "metadata": {
  "kernelspec": {
   "display_name": "Python 3",
   "language": "python",
   "name": "python3"
  },
  "language_info": {
   "codemirror_mode": {
    "name": "ipython",
    "version": 3
   },
   "file_extension": ".py",
   "mimetype": "text/x-python",
   "name": "python",
   "nbconvert_exporter": "python",
   "pygments_lexer": "ipython3",
   "version": "3.12.2"
  }
 },
 "nbformat": 4,
 "nbformat_minor": 2
}
